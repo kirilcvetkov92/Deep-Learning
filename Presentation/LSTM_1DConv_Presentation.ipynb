{
  "nbformat": 4,
  "nbformat_minor": 0,
  "metadata": {
    "colab": {
      "name": "Copy of Untitled1.ipynb",
      "version": "0.3.2",
      "provenance": []
    },
    "kernelspec": {
      "name": "python3",
      "display_name": "Python 3"
    }
  },
  "cells": [
    {
      "metadata": {
        "id": "wN0f9aGGA-Eg",
        "colab_type": "code",
        "colab": {
          "base_uri": "https://localhost:8080/",
          "height": 34
        },
        "outputId": "d13a63a9-1718-4e14-f47c-4142f187c2e4"
      },
      "cell_type": "code",
      "source": [
        "#  Copyright 2019 Kiril Cvetkov. All Rights Reserved.\n",
        "\n",
        "\n",
        "import json\n",
        "import os\n",
        "import pandas as pd\n",
        "import pprint\n",
        "import tensorflow as tf\n",
        "import time\n",
        "import numpy as np\n",
        "from tensorflow import keras\n",
        "from tensorflow.keras.layers import *\n",
        "from tensorflow.keras.models import Model\n",
        "from keras import backend as K\n"
      ],
      "execution_count": 2,
      "outputs": [
        {
          "output_type": "stream",
          "text": [
            "Using TensorFlow backend.\n"
          ],
          "name": "stderr"
        }
      ]
    },
    {
      "metadata": {
        "id": "WIAbJzRZBMfw",
        "colab_type": "code",
        "outputId": "2289a0b3-ffd1-445c-e180-f418bc2d5bb6",
        "colab": {
          "base_uri": "https://localhost:8080/",
          "height": 34
        }
      },
      "cell_type": "code",
      "source": [
        "class LSTMModule(tf.keras.Model):\n",
        "  def __init__(self, n_filters):\n",
        "    super(LSTMModule, self).__init__(name='')\n",
        "\n",
        "    self.lstm1 = LSTM(n_filters)\n",
        "\n",
        "    \n",
        "    \n",
        "  def call(self, inputs, training = False):\n",
        "    x = self.lstm1(inputs)\n",
        "    return x\n",
        "\n",
        "\n",
        "data = tf.convert_to_tensor([0.1,0.2,0.3])\n",
        "\n",
        "data = K.reshape(data,(1,3,1))\n",
        "\n",
        "model = LSTMModule(1)\n",
        "kiko = np.array([0.1,0.2,0.3])\n",
        "kiko = kiko.reshape(1,3,1)\n",
        "model.predict(kiko)\n",
        "\n",
        "\n"
      ],
      "execution_count": 3,
      "outputs": [
        {
          "output_type": "execute_result",
          "data": {
            "text/plain": [
              "array([[-0.07179468]], dtype=float32)"
            ]
          },
          "metadata": {
            "tags": []
          },
          "execution_count": 3
        }
      ]
    },
    {
      "metadata": {
        "id": "_I2CswrvDRvN",
        "colab_type": "code",
        "outputId": "4602ab75-28cf-4f10-ed0c-6b2d7705b1a2",
        "colab": {
          "base_uri": "https://localhost:8080/",
          "height": 34
        }
      },
      "cell_type": "code",
      "source": [
        "inputs1 = Input(shape=(3, 1))\n",
        "lstm1 = LSTM(1)(inputs1)\n",
        "model = Model(inputs=inputs1, outputs=lstm1)\n",
        "# define input data\n",
        "data = np.array([0.1, 0.2, 0.3]).reshape((1,3,1))\n",
        "# make and show prediction\n",
        "print(model.predict(data))"
      ],
      "execution_count": 4,
      "outputs": [
        {
          "output_type": "stream",
          "text": [
            "[[-0.04511731]]\n"
          ],
          "name": "stdout"
        }
      ]
    },
    {
      "metadata": {
        "id": "S5C4cV9GLtsT",
        "colab_type": "code",
        "outputId": "53691c81-0e63-4dab-bda7-1cd93decfbd6",
        "colab": {
          "base_uri": "https://localhost:8080/",
          "height": 85
        }
      },
      "cell_type": "code",
      "source": [
        "inputs1 = Input(shape=(3, 1))\n",
        "lstm1_output, state_h, state_c = LSTM(10, return_state=True)(inputs1)\n",
        "#return state e okay ako vrzuvam edna so druga lstm\n",
        "model = Model(inputs=inputs1, outputs=[lstm1_output, state_h, state_c])\n",
        "# define input data\n",
        "data = np.array([0.1, 0.2, 0.3]).reshape((1,3,1))\n",
        "# make and show prediction\n",
        "a,b, c = model.predict(data)\n",
        "\n",
        "print(a==b)\n",
        "print(a.shape)\n",
        "print(b.shape)\n",
        "print(c.shape)\n"
      ],
      "execution_count": 5,
      "outputs": [
        {
          "output_type": "stream",
          "text": [
            "[[ True  True  True  True  True  True  True  True  True  True]]\n",
            "(1, 10)\n",
            "(1, 10)\n",
            "(1, 10)\n"
          ],
          "name": "stdout"
        }
      ]
    },
    {
      "metadata": {
        "id": "PSf485JdNd_3",
        "colab_type": "code",
        "outputId": "9e5b3a14-b9a7-4053-a449-73e8c3a163d7",
        "colab": {
          "base_uri": "https://localhost:8080/",
          "height": 119
        }
      },
      "cell_type": "code",
      "source": [
        "inputs1 = Input(shape=(6, 1))\n",
        "lstm1_output, state_h, state_c = LSTM(10, return_state=True, return_sequences=True)(inputs1)\n",
        "lstm1_output = Convolution1D(filters=10, kernel_size=4, strides=1)(lstm1_output)\n",
        "model = Model(inputs=inputs1, outputs=[lstm1_output, state_h, state_c])\n",
        "# define input data\n",
        "data = np.array([0.1, 0.2, 0.3, 0.4, 0.5,0.6]).reshape((1,6,1))\n",
        "# make and show prediction\n",
        "a,b, c = model.predict(data)\n",
        "\n",
        "print(a==b)\n",
        "print(a.shape)\n",
        "print(b.shape)\n",
        "print(c.shape)"
      ],
      "execution_count": 10,
      "outputs": [
        {
          "output_type": "stream",
          "text": [
            "[[[False False False False False False False False False False]\n",
            "  [False False False False False False False False False False]\n",
            "  [False False False False False False False False False False]]]\n",
            "(1, 3, 10)\n",
            "(1, 10)\n",
            "(1, 10)\n"
          ],
          "name": "stdout"
        }
      ]
    },
    {
      "metadata": {
        "id": "bLFXUpYvO6Gy",
        "colab_type": "code",
        "outputId": "09cb12de-5311-4441-9e68-bca0903384e9",
        "colab": {
          "base_uri": "https://localhost:8080/",
          "height": 102
        }
      },
      "cell_type": "code",
      "source": [
        "inputs1 = Input(shape=(3, 1))\n",
        "lstm1_output, state_h= GRU(10, return_state=True, return_sequences=True)(inputs1)\n",
        "#return state e okay ako vrzuvam edna so druga lstm\n",
        "model = Model(inputs=inputs1, outputs=[lstm1_output, state_h])\n",
        "# define input data\n",
        "data = np.array([0.1, 0.2, 0.3]).reshape((1,3,1))\n",
        "# make and show prediction\n",
        "a,b = model.predict(data)\n",
        "\n",
        "print(a==b)\n",
        "print(a.shape)\n",
        "print(b.shape)\n",
        "\n"
      ],
      "execution_count": 0,
      "outputs": [
        {
          "output_type": "stream",
          "text": [
            "[[[False False False False False False False False False False]\n",
            "  [False False False False False False False False False False]\n",
            "  [ True  True  True  True  True  True  True  True  True  True]]]\n",
            "(1, 3, 10)\n",
            "(1, 10)\n"
          ],
          "name": "stdout"
        }
      ]
    },
    {
      "metadata": {
        "id": "PeOKCT-PRMdf",
        "colab_type": "code",
        "colab": {
          "base_uri": "https://localhost:8080/",
          "height": 51
        },
        "outputId": "2ebe1a35-4018-44f8-f1d1-642c565f1f6b"
      },
      "cell_type": "code",
      "source": [
        "def get_models(words, n_input, n_output, n_units):\n",
        "  # define training encoder\n",
        "  #n_input dict_size/hotencoding size\n",
        "  encoder_inputs = Input(shape=(words, n_input))\n",
        "  encoder = LSTM(n_units, return_sequences=True)(encoder_inputs)\n",
        " \n",
        "  print(encoder_inputs.shape[1])\n",
        "  kernel = int(encoder_inputs.shape[1]) - 3 + 1\n",
        "  print(kernel, kernel)\n",
        "  #(N, n_input, n_units)\n",
        "  encoder = Convolution1D(filters=n_units, kernel_size=kernel, strides=1)(encoder)\n",
        "  \n",
        "  dense = Dense(n_output, activation='softmax')(encoder)\n",
        "\n",
        "  model = Model(encoder_inputs, dense)\n",
        "\n",
        "  # return all models\n",
        "  return model\n",
        "  \n",
        "model = get_models(6, 50,50, 10)\n"
      ],
      "execution_count": 54,
      "outputs": [
        {
          "output_type": "stream",
          "text": [
            "6\n",
            "4 4\n"
          ],
          "name": "stdout"
        }
      ]
    },
    {
      "metadata": {
        "id": "1JoUSWYbRPbR",
        "colab_type": "code",
        "colab": {}
      },
      "cell_type": "code",
      "source": [
        "def predict_sequence(inference_encoder, source):\n",
        "  #encode\n",
        "  state = inference_encoder.predict(source)\n",
        "  \n",
        "  #state.argmax(axis=-1)\n",
        "  \n",
        "  print(state[0].shape)\n",
        "  \n",
        "  return(state[0])\n",
        "  \n",
        "  "
      ],
      "execution_count": 0,
      "outputs": []
    },
    {
      "metadata": {
        "id": "Ap3RTI50RKi4",
        "colab_type": "code",
        "colab": {}
      },
      "cell_type": "code",
      "source": [
        "from random import *\n",
        "from keras.utils import to_categorical\n",
        "\n",
        "# generate a sequence of random integers\n",
        "def generate_sequence(length, n_unique):\n",
        "\treturn [randint(1, n_unique-1) for _ in range(length)]\n",
        "\n",
        "def get_dataset(n_in, n_out, cardinality, n_samples):\n",
        "  X1, X2, y = list(), list(), list()\n",
        "  for _ in range(n_samples):\n",
        "    # generate source sequence\n",
        "    source = generate_sequence(n_in, cardinality)\n",
        "    # define target sequence\n",
        "    target = source[:n_out]\n",
        "    target.reverse()\n",
        "    # create padded input target sequence\n",
        "    target_in = [0] + target[:-1]\n",
        "    # encode\n",
        "#     print(source)\n",
        "#     print(target)\n",
        "#     print(target_in)\n",
        "    src_encoded = to_categorical([source], num_classes=cardinality)\n",
        "    tar_encoded = to_categorical([target], num_classes=cardinality)\n",
        "    tar2_encoded = to_categorical([target_in], num_classes=cardinality)\n",
        "    # store\n",
        "    X1.append(src_encoded)\n",
        "    X2.append(tar2_encoded)\n",
        "    y.append(tar_encoded)\n",
        "  return np.array(X1), np.array(X2), np.array(y)"
      ],
      "execution_count": 0,
      "outputs": []
    },
    {
      "metadata": {
        "id": "0iGYJ9yft4lA",
        "colab_type": "code",
        "colab": {}
      },
      "cell_type": "code",
      "source": [
        "n_features = 50 + 1\n",
        "n_steps_in = 6\n",
        "n_steps_out = 3"
      ],
      "execution_count": 0,
      "outputs": []
    },
    {
      "metadata": {
        "id": "4oZdZXkzuMQG",
        "colab_type": "code",
        "colab": {
          "base_uri": "https://localhost:8080/",
          "height": 51
        },
        "outputId": "8cabc3c6-cb7c-4eb1-9014-6f91fbd55f0f"
      },
      "cell_type": "code",
      "source": [
        "\n",
        "# define model\n",
        "train = get_models(n_steps_in, n_features, n_features, 128)\n",
        "train.compile(optimizer='adam', loss='categorical_crossentropy', metrics=['acc'])"
      ],
      "execution_count": 65,
      "outputs": [
        {
          "output_type": "stream",
          "text": [
            "6\n",
            "4 4\n"
          ],
          "name": "stdout"
        }
      ]
    },
    {
      "metadata": {
        "id": "hPPFxeHpuNLx",
        "colab_type": "code",
        "outputId": "249a5f8c-b76f-43fe-9b06-321eb0559963",
        "colab": {
          "base_uri": "https://localhost:8080/",
          "height": 85
        }
      },
      "cell_type": "code",
      "source": [
        "X1, X2, y = get_dataset(n_steps_in, n_steps_out, n_features, 100000)\n",
        "X1 = X1.squeeze()\n",
        "X2 = X2.squeeze()\n",
        "y = y.squeeze()\n",
        "print(X1.shape,X2.shape,y.shape)\n",
        "# train model\n",
        "train.fit(X1, y, epochs=1)"
      ],
      "execution_count": 66,
      "outputs": [
        {
          "output_type": "stream",
          "text": [
            "(100000, 6, 51) (100000, 3, 51) (100000, 3, 51)\n",
            "Epoch 1/1\n",
            "100000/100000 [==============================] - 77s 768us/step - loss: 0.6828 - acc: 0.7535\n"
          ],
          "name": "stdout"
        },
        {
          "output_type": "execute_result",
          "data": {
            "text/plain": [
              "<tensorflow.python.keras.callbacks.History at 0x7f607fd49390>"
            ]
          },
          "metadata": {
            "tags": []
          },
          "execution_count": 66
        }
      ]
    },
    {
      "metadata": {
        "id": "ZDO6keqauWE6",
        "colab_type": "code",
        "outputId": "186bb6c1-2e87-42f5-ab17-f06656d0fdad",
        "colab": {
          "base_uri": "https://localhost:8080/",
          "height": 1734
        }
      },
      "cell_type": "code",
      "source": [
        "def one_hot_decode(encoded_seq):\n",
        "\treturn [np.argmax(vector) for vector in encoded_seq]\n",
        "\n",
        "total, correct = 100, 0\n",
        "for _ in range(total):\n",
        "  X1, X2, y = get_dataset(n_steps_in, n_steps_out, n_features, 1)\n",
        "\n",
        "  X1=X1.reshape(X1.shape[1:])\n",
        "  X2=X2.reshape(X2.shape[1:])\n",
        "  y = y.reshape(y.shape[1:])\n",
        "  \n",
        "  target = predict_sequence(train, X1)\n",
        "  if np.array_equal(one_hot_decode(y[0]), one_hot_decode(target)):\n",
        "    correct += 1\n",
        "print('Accuracy: %.2f%%' % (float(correct)/float(total)*100.0))\n"
      ],
      "execution_count": 72,
      "outputs": [
        {
          "output_type": "stream",
          "text": [
            "(3, 51)\n",
            "(3, 51)\n",
            "(3, 51)\n",
            "(3, 51)\n",
            "(3, 51)\n",
            "(3, 51)\n",
            "(3, 51)\n",
            "(3, 51)\n",
            "(3, 51)\n",
            "(3, 51)\n",
            "(3, 51)\n",
            "(3, 51)\n",
            "(3, 51)\n",
            "(3, 51)\n",
            "(3, 51)\n",
            "(3, 51)\n",
            "(3, 51)\n",
            "(3, 51)\n",
            "(3, 51)\n",
            "(3, 51)\n",
            "(3, 51)\n",
            "(3, 51)\n",
            "(3, 51)\n",
            "(3, 51)\n",
            "(3, 51)\n",
            "(3, 51)\n",
            "(3, 51)\n",
            "(3, 51)\n",
            "(3, 51)\n",
            "(3, 51)\n",
            "(3, 51)\n",
            "(3, 51)\n",
            "(3, 51)\n",
            "(3, 51)\n",
            "(3, 51)\n",
            "(3, 51)\n",
            "(3, 51)\n",
            "(3, 51)\n",
            "(3, 51)\n",
            "(3, 51)\n",
            "(3, 51)\n",
            "(3, 51)\n",
            "(3, 51)\n",
            "(3, 51)\n",
            "(3, 51)\n",
            "(3, 51)\n",
            "(3, 51)\n",
            "(3, 51)\n",
            "(3, 51)\n",
            "(3, 51)\n",
            "(3, 51)\n",
            "(3, 51)\n",
            "(3, 51)\n",
            "(3, 51)\n",
            "(3, 51)\n",
            "(3, 51)\n",
            "(3, 51)\n",
            "(3, 51)\n",
            "(3, 51)\n",
            "(3, 51)\n",
            "(3, 51)\n",
            "(3, 51)\n",
            "(3, 51)\n",
            "(3, 51)\n",
            "(3, 51)\n",
            "(3, 51)\n",
            "(3, 51)\n",
            "(3, 51)\n",
            "(3, 51)\n",
            "(3, 51)\n",
            "(3, 51)\n",
            "(3, 51)\n",
            "(3, 51)\n",
            "(3, 51)\n",
            "(3, 51)\n",
            "(3, 51)\n",
            "(3, 51)\n",
            "(3, 51)\n",
            "(3, 51)\n",
            "(3, 51)\n",
            "(3, 51)\n",
            "(3, 51)\n",
            "(3, 51)\n",
            "(3, 51)\n",
            "(3, 51)\n",
            "(3, 51)\n",
            "(3, 51)\n",
            "(3, 51)\n",
            "(3, 51)\n",
            "(3, 51)\n",
            "(3, 51)\n",
            "(3, 51)\n",
            "(3, 51)\n",
            "(3, 51)\n",
            "(3, 51)\n",
            "(3, 51)\n",
            "(3, 51)\n",
            "(3, 51)\n",
            "(3, 51)\n",
            "(3, 51)\n",
            "Accuracy: 98.00%\n"
          ],
          "name": "stdout"
        }
      ]
    },
    {
      "metadata": {
        "id": "DlNHqiFZw0Cc",
        "colab_type": "code",
        "outputId": "80bf92bd-faed-45e6-b198-5153c1c59811",
        "colab": {
          "base_uri": "https://localhost:8080/",
          "height": 357
        }
      },
      "cell_type": "code",
      "source": [
        "# spot check some examples\n",
        "for _ in range(10):\n",
        "  X1, X2, y = get_dataset(n_steps_in, n_steps_out, n_features, 1)\n",
        "  X1=X1.reshape(X1.shape[1:])\n",
        "  y = y.reshape(y.shape[1:])\n",
        "\n",
        "  target = predict_sequence(train, X1)\n",
        "  print('X=%s y=%s, yhat=%s' % (one_hot_decode(X1[0]), one_hot_decode(y[0]), one_hot_decode(target)))"
      ],
      "execution_count": 75,
      "outputs": [
        {
          "output_type": "stream",
          "text": [
            "(3, 51)\n",
            "X=[46, 39, 40, 45, 8, 24] y=[40, 39, 46], yhat=[40, 39, 46]\n",
            "(3, 51)\n",
            "X=[38, 20, 18, 17, 9, 26] y=[18, 20, 38], yhat=[18, 20, 38]\n",
            "(3, 51)\n",
            "X=[46, 3, 31, 23, 30, 48] y=[31, 3, 46], yhat=[31, 3, 46]\n",
            "(3, 51)\n",
            "X=[30, 10, 1, 21, 1, 43] y=[1, 10, 30], yhat=[1, 10, 30]\n",
            "(3, 51)\n",
            "X=[16, 43, 13, 35, 21, 15] y=[13, 43, 16], yhat=[13, 43, 16]\n",
            "(3, 51)\n",
            "X=[37, 36, 27, 12, 10, 1] y=[27, 36, 37], yhat=[27, 36, 37]\n",
            "(3, 51)\n",
            "X=[40, 34, 43, 16, 15, 2] y=[43, 34, 40], yhat=[43, 34, 40]\n",
            "(3, 51)\n",
            "X=[4, 17, 3, 25, 17, 21] y=[3, 17, 4], yhat=[3, 17, 4]\n",
            "(3, 51)\n",
            "X=[25, 16, 28, 40, 25, 14] y=[28, 16, 25], yhat=[28, 16, 25]\n",
            "(3, 51)\n",
            "X=[44, 18, 31, 19, 7, 40] y=[31, 18, 44], yhat=[31, 18, 44]\n"
          ],
          "name": "stdout"
        }
      ]
    },
    {
      "metadata": {
        "id": "873WsD702KDH",
        "colab_type": "code",
        "colab": {}
      },
      "cell_type": "code",
      "source": [
        "#so se desava vo generiranje recenici, ima samo encoder :) pak moze istoto da se simulira so for 1Cell, pa drug cell\n",
        "\n",
        "#ZA UTRE probaj so 1d konvolucija bez dekoder"
      ],
      "execution_count": 0,
      "outputs": []
    },
    {
      "metadata": {
        "id": "vBOIo3AFQvjL",
        "colab_type": "code",
        "colab": {}
      },
      "cell_type": "code",
      "source": [
        "20, 5, 120 => "
      ],
      "execution_count": 0,
      "outputs": []
    },
    {
      "metadata": {
        "id": "jw--lUaIY6qU",
        "colab_type": "code",
        "colab": {}
      },
      "cell_type": "code",
      "source": [
        ""
      ],
      "execution_count": 0,
      "outputs": []
    }
  ]
}