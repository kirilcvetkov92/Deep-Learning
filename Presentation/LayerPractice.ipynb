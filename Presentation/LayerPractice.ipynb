{
  "nbformat": 4,
  "nbformat_minor": 0,
  "metadata": {
    "colab": {
      "name": "Copy of Simple Classification Model using Keras on Colab TPU.ipynb",
      "version": "0.3.2",
      "provenance": [],
      "collapsed_sections": [],
      "toc_visible": true
    },
    "kernelspec": {
      "name": "python2",
      "display_name": "Python 2"
    },
    "accelerator": "TPU"
  },
  "cells": [
    {
      "metadata": {
        "id": "a0TLC65g9W5n",
        "colab_type": "text"
      },
      "cell_type": "markdown",
      "source": [
        "# A simple classification model using Keras with Cloud TPUs\n",
        "\n",
        ":) Away due holidays don't have any deep learning rig nearby"
      ]
    },
    {
      "metadata": {
        "id": "ACiNzAp8AoWR",
        "colab_type": "text"
      },
      "cell_type": "markdown",
      "source": [
        "###Imports"
      ]
    },
    {
      "metadata": {
        "id": "IgQge6h7AqDw",
        "colab_type": "code",
        "colab": {}
      },
      "cell_type": "code",
      "source": [
        "#  Copyright 2019 Kiril Cvetkov. All Rights Reserved.\n",
        "\n",
        "\n",
        "import json\n",
        "import os\n",
        "import pandas as pd\n",
        "import pprint\n",
        "import tensorflow as tf\n",
        "import time\n",
        "import numpy as np\n",
        "from tensorflow import keras\n",
        "from tensorflow.keras.layers import *"
      ],
      "execution_count": 0,
      "outputs": []
    },
    {
      "metadata": {
        "id": "AFZEq6epY-Sy",
        "colab_type": "code",
        "outputId": "c01830cd-86a5-40da-9957-64a33ccb8cd8",
        "colab": {
          "base_uri": "https://localhost:8080/",
          "height": 34
        }
      },
      "cell_type": "code",
      "source": [
        "print(tf.__version__)"
      ],
      "execution_count": 0,
      "outputs": [
        {
          "output_type": "stream",
          "text": [
            "1.12.0\n"
          ],
          "name": "stdout"
        }
      ]
    },
    {
      "metadata": {
        "id": "7FCdy1aBAsXe",
        "colab_type": "text"
      },
      "cell_type": "markdown",
      "source": [
        "###Resolve TPU Address"
      ]
    },
    {
      "metadata": {
        "id": "cMKySsFRFzlg",
        "colab_type": "text"
      },
      "cell_type": "markdown",
      "source": [
        "###Training of the model on TPU"
      ]
    },
    {
      "metadata": {
        "id": "UXsC4-THUuZe",
        "colab_type": "code",
        "colab": {}
      },
      "cell_type": "code",
      "source": [
        "class ConvBnAct(tf.keras.Model):\n",
        "  \n",
        "  def __init__(self, n_filters=64, kernel=(2,2), strides=(1,1)):\n",
        "    self.filters = n_filters\n",
        "    self.kernel = kernel\n",
        "    self.strides = strides\n",
        "    self.activation = tf.nn.relu\n",
        "    super(ConvBnAct, self).__init__(name='')\n",
        "    \n",
        "    self.conv_ =  Conv2D(filters=self.filters,\n",
        "                  kernel_size = self.kernel,\n",
        "                  strides = self.strides, name='Conv2D')\n",
        "    \n",
        "    self.batch_norm = BatchNormalization(name='BatchNorm')\n",
        "    \n",
        "    self.activation = Activation(self.activation, name='RELU')\n",
        "  def call(self, x, training=False):\n",
        "    x = self.conv_(x) \n",
        "    x = self.batch_norm(x)\n",
        "    \n",
        "    x = self.activation(x)\n",
        "    \n",
        "    return x \n",
        "  "
      ],
      "execution_count": 0,
      "outputs": []
    },
    {
      "metadata": {
        "id": "mPkyeZuAd3oC",
        "colab_type": "code",
        "outputId": "2d0cd67e-d83b-499d-97e7-7908e9adabcf",
        "colab": {
          "base_uri": "https://localhost:8080/",
          "height": 54
        }
      },
      "cell_type": "code",
      "source": [
        "norm = tf.random_normal([10, 256, 256, 64], mean=-1, stddev=4)\n",
        "\n",
        "block = ConvBnAct()\n",
        "block(norm)\n",
        "\n",
        "print([x.name for x in block.variables])\n",
        "    \n",
        "  "
      ],
      "execution_count": 0,
      "outputs": [
        {
          "output_type": "stream",
          "text": [
            "['conv_bn_act/Conv2D/kernel:0', 'conv_bn_act/Conv2D/bias:0', 'conv_bn_act/BatchNorm/gamma:0', 'conv_bn_act/BatchNorm/beta:0', 'conv_bn_act/BatchNorm/moving_mean:0', 'conv_bn_act/BatchNorm/moving_variance:0']\n"
          ],
          "name": "stdout"
        }
      ]
    },
    {
      "metadata": {
        "id": "zzqkBNphhjH9",
        "colab_type": "code",
        "colab": {}
      },
      "cell_type": "code",
      "source": [
        "class ConvAct(tf.keras.Model):\n",
        "    def __init__(self, n_filters, kernel=(1,1), activation = tf.nn.relu, pooling=False):\n",
        "      super(ConvAct, self).__init__(name='')\n",
        "\n",
        "      self.pooling = pooling\n",
        "      self.kernel = kernel\n",
        "      self.n_filters = n_filters\n",
        "      self.activation = activation\n",
        "      self.pooling = pooling\n",
        "\n",
        "\n",
        "      self.poolingLayer = AveragePooling2D(pool_size=(1,1), padding='same', name='AveragePool')\n",
        "      self.convLayer = Conv2D(filters = self.n_filters,\n",
        "                         kernel_size = self.kernel,\n",
        "                         strides=1, name='Conv2D')\n",
        "\n",
        "      self.activation = Activation(activation, name='ActivationRelu')\n",
        "\n",
        "    def call(self, x, training = False):\n",
        "\n",
        "      if self.pooling:\n",
        "        x = self.poolingLayer(x)\n",
        "\n",
        "      x = self.convLayer(x)\n",
        "      x = self.activation(x)\n",
        "\n",
        "      return x\n",
        "\n",
        "   "
      ],
      "execution_count": 0,
      "outputs": []
    },
    {
      "metadata": {
        "id": "G_KKfi62j2aF",
        "colab_type": "code",
        "outputId": "db40b218-1db7-452f-e616-7547d30018dd",
        "colab": {
          "base_uri": "https://localhost:8080/",
          "height": 34
        }
      },
      "cell_type": "code",
      "source": [
        "norm = tf.random_normal([10, 127, 127, 64], mean=-1, stddev=4)\n",
        "\n",
        "block = ConvAct(n_filters=64, pooling=True)\n",
        "block(norm)\n",
        "\n",
        "print([x.name for x in block.variables])"
      ],
      "execution_count": 0,
      "outputs": [
        {
          "output_type": "stream",
          "text": [
            "['conv_act/Conv2D/kernel:0', 'conv_act/Conv2D/bias:0']\n"
          ],
          "name": "stdout"
        }
      ]
    },
    {
      "metadata": {
        "id": "Haulcfbgl4tH",
        "colab_type": "code",
        "colab": {}
      },
      "cell_type": "code",
      "source": [
        "class AttentionRefinmentModule(tf.keras.Model):\n",
        "  def __init__(self, n_filters):\n",
        "    super(AttentionRefinmentModule, self).__init__(name='')\n",
        "\n",
        "    self.filters = n_filters\n",
        "    \n",
        "    self.poolingLayer = AveragePooling2D(pool_size = (1,1), padding='same', name='AveragePool')\n",
        "    self.conv_bn_act = ConvBnAct(kernel = (1,1), n_filters = self.filters)\n",
        "    \n",
        "    \n",
        "  def call(self, inputs, training = False):\n",
        "    x = self.poolingLayer(inputs)\n",
        "    x = self.conv_bn_act(x)\n",
        "    \n",
        "    print(x.shape)\n",
        "    print(inputs.shape)\n",
        "    return tf.math.multiply(inputs,x)\n",
        "\n",
        "    "
      ],
      "execution_count": 0,
      "outputs": []
    },
    {
      "metadata": {
        "id": "cesc4PObrgBI",
        "colab_type": "code",
        "outputId": "6423cdb1-2c74-4c56-97b7-6a5faf891bfa",
        "colab": {
          "base_uri": "https://localhost:8080/",
          "height": 88
        }
      },
      "cell_type": "code",
      "source": [
        "norm = tf.random_normal([10, 256, 256, 64], mean=-1, stddev=4)\n",
        "\n",
        "block = AttentionRefinmentModule(n_filters=64)\n",
        "block(norm)\n",
        "\n",
        "print([x.name for x in block.variables])"
      ],
      "execution_count": 0,
      "outputs": [
        {
          "output_type": "stream",
          "text": [
            "(10, 256, 256, 64)\n",
            "(10, 256, 256, 64)\n",
            "['attention_refinment_module/conv_bn_act_1/Conv2D/kernel:0', 'attention_refinment_module/conv_bn_act_1/Conv2D/bias:0', 'attention_refinment_module/conv_bn_act_1/BatchNorm/gamma:0', 'attention_refinment_module/conv_bn_act_1/BatchNorm/beta:0', 'attention_refinment_module/conv_bn_act_1/BatchNorm/moving_mean:0', 'attention_refinment_module/conv_bn_act_1/BatchNorm/moving_variance:0']\n"
          ],
          "name": "stdout"
        }
      ]
    },
    {
      "metadata": {
        "id": "0CPTGPaoriFS",
        "colab_type": "code",
        "colab": {}
      },
      "cell_type": "code",
      "source": [
        "class FeatureFusionModule(tf.keras.Model):\n",
        "  def __init__(self, n_filters):\n",
        "    super(FeatureFusionModule, self).__init__(name='')\n",
        "    self.conv_bn_act = ConvBnAct(n_filters=n_filters, kernel=(3, 3), strides=2)\n",
        "    self.conv_act1 = ConvAct(n_filters=n_filters, pooling=True)\n",
        "    self.conv_act2 = ConvAct(n_filters=n_filters, pooling=False, activation = tf.nn.sigmoid)\n",
        "    activation = tf.nn.sigmoid\n",
        "    \n",
        "   \n",
        "  def call(self, input_f, input_s, training=True):\n",
        "    \n",
        "    print(input_f.shape, input_s.shape)\n",
        "    concate = Concatenate(axis=-1)([input_f, input_s])\n",
        "    \n",
        "    print(concate.shape)\n",
        "    branch0 = self.conv_bn_act(concate)\n",
        "    print(branch0.shape)\n",
        "    branch_1 = self.conv_act1(branch0)\n",
        "    \n",
        "    branch_1 = self.conv_act2(branch_1)\n",
        "    \n",
        "    x = multiply([branch0, branch_1])\n",
        "    return  Add()([branch0, x])\n"
      ],
      "execution_count": 0,
      "outputs": []
    },
    {
      "metadata": {
        "id": "8vo9UbGLvMIK",
        "colab_type": "code",
        "outputId": "e8366725-60d9-47ac-bbe0-4221f3e94a52",
        "colab": {
          "base_uri": "https://localhost:8080/",
          "height": 105
        }
      },
      "cell_type": "code",
      "source": [
        "norm1 = tf.random_normal([10, 256, 256, 64], mean=-1, stddev=4)\n",
        "norm2 = tf.random_normal([10, 256, 256, 64], mean=-1, stddev=4)\n",
        "\n",
        "block = FeatureFusionModule(n_filters=64)\n",
        "block(norm1, norm2)\n",
        "\n",
        "print([x.name for x in block.variables])"
      ],
      "execution_count": 0,
      "outputs": [
        {
          "output_type": "stream",
          "text": [
            "(TensorShape([Dimension(10), Dimension(256), Dimension(256), Dimension(64)]), TensorShape([Dimension(10), Dimension(256), Dimension(256), Dimension(64)]))\n",
            "(10, 256, 256, 128)\n",
            "(10, 127, 127, 64)\n",
            "['feature_fusion_module/conv_bn_act_2/Conv2D/kernel:0', 'feature_fusion_module/conv_bn_act_2/Conv2D/bias:0', 'feature_fusion_module/conv_bn_act_2/BatchNorm/gamma:0', 'feature_fusion_module/conv_bn_act_2/BatchNorm/beta:0', 'feature_fusion_module/conv_act_1/Conv2D/kernel:0', 'feature_fusion_module/conv_act_1/Conv2D/bias:0', 'feature_fusion_module/conv_act_2/Conv2D/kernel:0', 'feature_fusion_module/conv_act_2/Conv2D/bias:0', 'feature_fusion_module/conv_bn_act_2/BatchNorm/moving_mean:0', 'feature_fusion_module/conv_bn_act_2/BatchNorm/moving_variance:0']\n"
          ],
          "name": "stdout"
        }
      ]
    },
    {
      "metadata": {
        "id": "BLEtmhIV15o-",
        "colab_type": "code",
        "outputId": "91ff299d-b4f9-4852-8421-0ae5d8a28ef0",
        "colab": {
          "base_uri": "https://localhost:8080/",
          "height": 34
        }
      },
      "cell_type": "code",
      "source": [
        "norm1 = tf.random_normal([10, 256, 256, 64], mean=-1, stddev=4)\n",
        "print(GlobalMaxPooling2D()(norm1).shape)\n"
      ],
      "execution_count": 0,
      "outputs": [
        {
          "output_type": "stream",
          "text": [
            "(10, 64)\n"
          ],
          "name": "stdout"
        }
      ]
    },
    {
      "metadata": {
        "id": "QVo6IjxNybW8",
        "colab_type": "code",
        "colab": {}
      },
      "cell_type": "code",
      "source": [
        "class ContextPath(tf.keras.Model):\n",
        "  def __init__(self, n_filters):\n",
        "    super(ContextPath, self).__init__(name='')\n",
        "    \n",
        "    self.globalmax = GlobalMaxPooling2D()\n",
        "    self.upsample_1 = UpSampling2D(size=(2, 2))\n",
        "    self.upsample_2 = UpSampling2D(size=(2, 2))\n",
        "    self.upsample_3 = UpSampling2D(size=(2, 2))\n",
        "    self.upsample_4 = UpSampling2D(size=(2, 2))\n",
        "    self.arm1 = AttentionRefinmentModule(n_filters=64)\n",
        "    self.arm2 = AttentionRefinmentModule(n_filters=64)\n",
        "\n",
        "  def call(self, tail_layer):\n",
        "    globalmax = self.globalmax(tail_layer)\n",
        "    upsample1 = self.upsample_1(tail_layer)\n",
        "    upsample2 = self.upsample_2(upsample1)\n",
        "    upsample3 = self.upsample_3(upsample2)\n",
        "    upsample4 = self.upsample_4(upsample3)\n",
        "\n",
        "    seg1 = self.arm1(upsample3)\n",
        "    seg2 = self.arm2(upsample4)\n",
        "\n",
        "\n",
        "    tail = Add()([upsample4, globalmax])\n",
        "\n",
        "    cnc = Concatenate(axis=-1)([tail,seg2])\n",
        "\n",
        "    final_feature = Concatenate(axis=-1)([cnc, seg2])\n",
        "    return final_feature\n",
        "    \n",
        "      \n",
        "      "
      ],
      "execution_count": 0,
      "outputs": []
    },
    {
      "metadata": {
        "id": "apsRMo2GEHuV",
        "colab_type": "code",
        "outputId": "fc361965-3859-48ba-cecf-3d766d3e4e43",
        "colab": {
          "base_uri": "https://localhost:8080/",
          "height": 102
        }
      },
      "cell_type": "code",
      "source": [
        "tail_layer = tf.random_normal([10, 256, 256, 64], mean=-1, stddev=4)\n",
        "block = ContextPath(n_filters=64)\n",
        "block(tail_layer)\n"
      ],
      "execution_count": 0,
      "outputs": [
        {
          "output_type": "stream",
          "text": [
            "(10, 2048, 2048, 64)\n",
            "(10, 2048, 2048, 64)\n",
            "(10, 4096, 4096, 64)\n",
            "(10, 4096, 4096, 64)\n"
          ],
          "name": "stdout"
        },
        {
          "output_type": "execute_result",
          "data": {
            "text/plain": [
              "<tf.Tensor 'context_path/concatenate_2/concat:0' shape=(10, 4096, 4096, 192) dtype=float32>"
            ]
          },
          "metadata": {
            "tags": []
          },
          "execution_count": 17
        }
      ]
    },
    {
      "metadata": {
        "id": "DcxfKH8wcnE3",
        "colab_type": "code",
        "colab": {}
      },
      "cell_type": "code",
      "source": [
        "class FinalModel(tf.keras.Model):\n",
        "  def __init__(self):\n",
        "    self.context_path = ContextPath(64)\n",
        "    self.batch1 = ConvBnAct(64)\n",
        "    self.batch2 = ConvBnAct(128)\n",
        "    self.batch3 = ConvBnAct(256)\n",
        "    self.upsample = UpSampling2D(size=(8, 8))\n",
        "    self.feature_fusion = FeatureFusionModel(64)\n",
        "    \n",
        "  def call(self, x, last_layer): \n",
        "    \n",
        "    #spatial path\n",
        "    x = self.batch1(x)\n",
        "    x = self.batch2(x)\n",
        "    x = self.batch3(x)\n",
        "    \n",
        "    #context path\n",
        "    cp = ContextPath(last_layer)\n",
        "    \n",
        "    #concatenate\n",
        "    ffm = Concatenate(axis=-1)([cp,x])\n",
        "    \n",
        "    #upsample\n",
        "    ans = self.upsample(ffm)\n",
        "    \n",
        "    return ans\n",
        "    \n"
      ],
      "execution_count": 0,
      "outputs": []
    },
    {
      "metadata": {
        "id": "HQzIvyM2h2j7",
        "colab_type": "code",
        "colab": {}
      },
      "cell_type": "code",
      "source": [
        "norm1 = tf.random_normal([10, 256,256], mean=-1, stddev=4)\n"
      ],
      "execution_count": 0,
      "outputs": []
    },
    {
      "metadata": {
        "id": "3PKc9twft1GX",
        "colab_type": "code",
        "colab": {}
      },
      "cell_type": "code",
      "source": [
        "tk = Conv1D(filters=220, kernel_size=(5), strides=2)(norm1)"
      ],
      "execution_count": 0,
      "outputs": []
    },
    {
      "metadata": {
        "id": "-RbfrrPut_-p",
        "colab_type": "code",
        "outputId": "da8f7d19-5651-454b-932d-7699670fc2b2",
        "colab": {
          "base_uri": "https://localhost:8080/",
          "height": 34
        }
      },
      "cell_type": "code",
      "source": [
        "print(tk.shape)"
      ],
      "execution_count": 0,
      "outputs": [
        {
          "output_type": "stream",
          "text": [
            "(10, 126, 256)\n"
          ],
          "name": "stdout"
        }
      ]
    },
    {
      "metadata": {
        "id": "MHXbA3O-uVfM",
        "colab_type": "code",
        "colab": {}
      },
      "cell_type": "code",
      "source": [
        "tensor = tf.random_normal([100,2000, 50], mean=-1, stddev=4)"
      ],
      "execution_count": 0,
      "outputs": []
    },
    {
      "metadata": {
        "id": "UA4NkU_fBmdu",
        "colab_type": "code",
        "outputId": "a1cb58a8-c262-4a7e-f2d4-437291d9702c",
        "colab": {
          "base_uri": "https://localhost:8080/",
          "height": 34
        }
      },
      "cell_type": "code",
      "source": [
        "s=TimeDistributed(Dense(20), name='embedding_dropout')(tensor)\n",
        "print(s.shape)"
      ],
      "execution_count": 0,
      "outputs": [
        {
          "output_type": "stream",
          "text": [
            "(100, 2000, 20)\n"
          ],
          "name": "stdout"
        }
      ]
    },
    {
      "metadata": {
        "id": "hnHzTl6vBqhJ",
        "colab_type": "code",
        "outputId": "c00ad4f0-0c4a-4c9f-9895-e78f76a470b9",
        "colab": {
          "base_uri": "https://localhost:8080/",
          "height": 34
        }
      },
      "cell_type": "code",
      "source": [
        "print(s)"
      ],
      "execution_count": 0,
      "outputs": [
        {
          "output_type": "stream",
          "text": [
            "Tensor(\"embedding_dropout/transpose_1:0\", shape=(100, 2000, 20), dtype=float32)\n"
          ],
          "name": "stdout"
        }
      ]
    },
    {
      "metadata": {
        "id": "hu8L9b5-B8ib",
        "colab_type": "code",
        "outputId": "8ab32863-c214-4eb8-c41d-1d157f2e0ead",
        "colab": {
          "base_uri": "https://localhost:8080/",
          "height": 34
        }
      },
      "cell_type": "code",
      "source": [
        "s=GlobalMaxPooling1D()(tensor)\n",
        "print(s.shape)"
      ],
      "execution_count": 0,
      "outputs": [
        {
          "output_type": "stream",
          "text": [
            "(100, 50)\n"
          ],
          "name": "stdout"
        }
      ]
    },
    {
      "metadata": {
        "id": "8Hs85NB3lqPf",
        "colab_type": "code",
        "colab": {}
      },
      "cell_type": "code",
      "source": [
        "#https://machinelearningmastery.com/use-word-embedding-layers-deep-learning-keras/\n",
        "#https://machinelearningmastery.com/develop-encoder-decoder-model-sequence-sequence-prediction-keras"
      ],
      "execution_count": 0,
      "outputs": []
    },
    {
      "metadata": {
        "id": "er_n4VcBqePu",
        "colab_type": "code",
        "outputId": "954637e2-c6cd-48af-8a17-40bed1e67d4c",
        "colab": {
          "base_uri": "https://localhost:8080/",
          "height": 34
        }
      },
      "cell_type": "code",
      "source": [
        "s = tf.random_normal([100, 100], mean=-1, stddev=4)\n",
        "\n",
        "keras.layers.RepeatVector(6)(s)"
      ],
      "execution_count": 0,
      "outputs": [
        {
          "output_type": "execute_result",
          "data": {
            "text/plain": [
              "<tf.Tensor 'repeat_vector/Tile:0' shape=(100, 6, 100) dtype=float32>"
            ]
          },
          "metadata": {
            "tags": []
          },
          "execution_count": 30
        }
      ]
    },
    {
      "metadata": {
        "id": "kKypc1QOyD0z",
        "colab_type": "code",
        "outputId": "62fb4c03-4f2b-4740-e8bb-8bddb1cdd2d4",
        "colab": {
          "base_uri": "https://localhost:8080/",
          "height": 34
        }
      },
      "cell_type": "code",
      "source": [
        "tf.keras.backend.expand_dims(\n",
        "    s,\n",
        "    axis=2\n",
        ")\n"
      ],
      "execution_count": 0,
      "outputs": [
        {
          "output_type": "execute_result",
          "data": {
            "text/plain": [
              "<tf.Tensor 'ExpandDims:0' shape=(100, 100, 1) dtype=float32>"
            ]
          },
          "metadata": {
            "tags": []
          },
          "execution_count": 31
        }
      ]
    },
    {
      "metadata": {
        "id": "pbrpsJQ29iYJ",
        "colab_type": "code",
        "outputId": "a364a448-b4e4-47eb-ad40-718c321e6e75",
        "colab": {
          "base_uri": "https://localhost:8080/",
          "height": 34
        }
      },
      "cell_type": "code",
      "source": [
        "s1 = tf.random_normal([100, 100], mean=-1, stddev=4)\n",
        "\n",
        "s2 = tf.random_normal([100, 100], mean=-1, stddev=4)\n",
        "\n",
        "(s1<s2)"
      ],
      "execution_count": 0,
      "outputs": [
        {
          "output_type": "execute_result",
          "data": {
            "text/plain": [
              "<tf.Tensor 'Less:0' shape=(100, 100) dtype=bool>"
            ]
          },
          "metadata": {
            "tags": []
          },
          "execution_count": 32
        }
      ]
    },
    {
      "metadata": {
        "id": "woXb88JU921M",
        "colab_type": "code",
        "colab": {}
      },
      "cell_type": "code",
      "source": [
        "#ako sakam da vrzam RNN rezuoltati so softmax => TimeDistributed, vo novite vrZii samo dense\n",
        "# ako sakam da vrzam CNN ogromen layer praes global max pooling"
      ],
      "execution_count": 0,
      "outputs": []
    },
    {
      "metadata": {
        "id": "lyZFwKUt_GbP",
        "colab_type": "code",
        "outputId": "6b61bff9-b2ae-4a27-c3a7-fd61c76498ae",
        "colab": {
          "base_uri": "https://localhost:8080/",
          "height": 34
        }
      },
      "cell_type": "code",
      "source": [
        "import pandas as pd\n",
        "import numpy as np\n",
        "import os\n",
        "import keras\n",
        "import matplotlib.pyplot as plt\n",
        "from keras.layers import Dense,GlobalAveragePooling2D\n",
        "from keras.applications import MobileNet\n",
        "from keras.preprocessing import image\n",
        "from keras.applications.mobilenet import preprocess_input\n",
        "from keras.preprocessing.image import ImageDataGenerator\n",
        "from keras.models import Model\n",
        "from keras.optimizers import Adam"
      ],
      "execution_count": 0,
      "outputs": [
        {
          "output_type": "stream",
          "text": [
            "Using TensorFlow backend.\n"
          ],
          "name": "stderr"
        }
      ]
    },
    {
      "metadata": {
        "id": "85lrUfXiKmQ_",
        "colab_type": "code",
        "outputId": "a948ccb7-7bb6-43a4-9b8e-d758ee404986",
        "colab": {
          "base_uri": "https://localhost:8080/",
          "height": 251
        }
      },
      "cell_type": "code",
      "source": [
        "base_model=MobileNet(weights='imagenet',include_top=False) #imports the mobilenet model and discards the last 1000 neuron layer.\n",
        "\n",
        "x=base_model.output\n",
        "print(x.shape)\n",
        "x=GlobalAveragePooling2D()(x)\n",
        "print(x.shape)\n",
        "x=Dense(1024,activation='relu')(x) #we add dense layers so that the model can learn more complex functions and classify for better results.\n",
        "x=Dense(1024,activation='relu')(x) #dense layer 2\n",
        "x=Dense(512,activation='relu')(x) #dense layer 3\n",
        "preds=Dense(120,activation='softmax')(x) #final layer with softmax activation"
      ],
      "execution_count": 0,
      "outputs": [
        {
          "output_type": "error",
          "ename": "NameError",
          "evalue": "ignored",
          "traceback": [
            "\u001b[0;31m\u001b[0m",
            "\u001b[0;31mNameError\u001b[0mTraceback (most recent call last)",
            "\u001b[0;32m<ipython-input-1-93afafc847b5>\u001b[0m in \u001b[0;36m<module>\u001b[0;34m()\u001b[0m\n\u001b[0;32m----> 1\u001b[0;31m \u001b[0mbase_model\u001b[0m\u001b[0;34m=\u001b[0m\u001b[0mMobileNet\u001b[0m\u001b[0;34m(\u001b[0m\u001b[0mweights\u001b[0m\u001b[0;34m=\u001b[0m\u001b[0;34m'imagenet'\u001b[0m\u001b[0;34m,\u001b[0m\u001b[0minclude_top\u001b[0m\u001b[0;34m=\u001b[0m\u001b[0mFalse\u001b[0m\u001b[0;34m)\u001b[0m \u001b[0;31m#imports the mobilenet model and discards the last 1000 neuron layer.\u001b[0m\u001b[0;34m\u001b[0m\u001b[0m\n\u001b[0m\u001b[1;32m      2\u001b[0m \u001b[0;34m\u001b[0m\u001b[0m\n\u001b[1;32m      3\u001b[0m \u001b[0mx\u001b[0m\u001b[0;34m=\u001b[0m\u001b[0mbase_model\u001b[0m\u001b[0;34m.\u001b[0m\u001b[0moutput\u001b[0m\u001b[0;34m\u001b[0m\u001b[0m\n\u001b[1;32m      4\u001b[0m \u001b[0;32mprint\u001b[0m\u001b[0;34m(\u001b[0m\u001b[0mx\u001b[0m\u001b[0;34m.\u001b[0m\u001b[0mshape\u001b[0m\u001b[0;34m)\u001b[0m\u001b[0;34m\u001b[0m\u001b[0m\n\u001b[1;32m      5\u001b[0m \u001b[0mx\u001b[0m\u001b[0;34m=\u001b[0m\u001b[0mGlobalAveragePooling2D\u001b[0m\u001b[0;34m(\u001b[0m\u001b[0;34m)\u001b[0m\u001b[0;34m(\u001b[0m\u001b[0mx\u001b[0m\u001b[0;34m)\u001b[0m\u001b[0;34m\u001b[0m\u001b[0m\n",
            "\u001b[0;31mNameError\u001b[0m: name 'MobileNet' is not defined"
          ]
        }
      ]
    },
    {
      "metadata": {
        "id": "e8xF8AIsKrXU",
        "colab_type": "code",
        "outputId": "b737095a-63e5-4e78-ec8b-7f1452d38eb6",
        "colab": {
          "base_uri": "https://localhost:8080/",
          "height": 34
        }
      },
      "cell_type": "code",
      "source": [
        "s2 = tf.random_normal([20,50,50,40], mean=-1, stddev=4)\n",
        "keras.layers.MaxPooling2D(pool_size=(2, 2), strides=None, padding='valid')(s2) #'valid/same'"
      ],
      "execution_count": 0,
      "outputs": [
        {
          "output_type": "execute_result",
          "data": {
            "text/plain": [
              "<tf.Tensor 'max_pooling2d_9/MaxPool:0' shape=(20, 25, 25, 40) dtype=float32>"
            ]
          },
          "metadata": {
            "tags": []
          },
          "execution_count": 19
        }
      ]
    },
    {
      "metadata": {
        "id": "Itm6yYpsFOpP",
        "colab_type": "code",
        "outputId": "e1dde1f1-ed91-47d4-d403-cf8fdc701a8e",
        "colab": {
          "base_uri": "https://localhost:8080/",
          "height": 268
        }
      },
      "cell_type": "code",
      "source": [
        "from keras.models import Sequential\n",
        "## create model\n",
        "model_glove = Sequential()\n",
        "model_glove.add(Embedding(vocabulary_size, 100, input_length=50, weights=[embedding_matrix], trainable=False))\n",
        "model_glove.add(Dropout(0.2))\n",
        "model_glove.add(Conv1D(64, 5, activation='relu'))\n",
        "model_glove.add(MaxPooling1D(pool_size=4))\n",
        "model_glove.add(LSTM(100))\n",
        "model_glove.add(Dense(1, activation='sigmoid'))\n",
        "model_glove.compile(loss='binary_crossentropy', optimizer='adam', metrics=['accuracy'])"
      ],
      "execution_count": 0,
      "outputs": [
        {
          "output_type": "stream",
          "text": [
            "Using TensorFlow backend.\n"
          ],
          "name": "stderr"
        },
        {
          "output_type": "error",
          "ename": "NameError",
          "evalue": "ignored",
          "traceback": [
            "\u001b[0;31m\u001b[0m",
            "\u001b[0;31mNameError\u001b[0mTraceback (most recent call last)",
            "\u001b[0;32m<ipython-input-21-6d4a78135cd4>\u001b[0m in \u001b[0;36m<module>\u001b[0;34m()\u001b[0m\n\u001b[1;32m      2\u001b[0m \u001b[0;31m## create model\u001b[0m\u001b[0;34m\u001b[0m\u001b[0;34m\u001b[0m\u001b[0m\n\u001b[1;32m      3\u001b[0m \u001b[0mmodel_glove\u001b[0m \u001b[0;34m=\u001b[0m \u001b[0mSequential\u001b[0m\u001b[0;34m(\u001b[0m\u001b[0;34m)\u001b[0m\u001b[0;34m\u001b[0m\u001b[0m\n\u001b[0;32m----> 4\u001b[0;31m \u001b[0mmodel_glove\u001b[0m\u001b[0;34m.\u001b[0m\u001b[0madd\u001b[0m\u001b[0;34m(\u001b[0m\u001b[0mEmbedding\u001b[0m\u001b[0;34m(\u001b[0m\u001b[0mvocabulary_size\u001b[0m\u001b[0;34m,\u001b[0m \u001b[0;36m100\u001b[0m\u001b[0;34m,\u001b[0m \u001b[0minput_length\u001b[0m\u001b[0;34m=\u001b[0m\u001b[0;36m50\u001b[0m\u001b[0;34m,\u001b[0m \u001b[0mweights\u001b[0m\u001b[0;34m=\u001b[0m\u001b[0;34m[\u001b[0m\u001b[0membedding_matrix\u001b[0m\u001b[0;34m]\u001b[0m\u001b[0;34m,\u001b[0m \u001b[0mtrainable\u001b[0m\u001b[0;34m=\u001b[0m\u001b[0mFalse\u001b[0m\u001b[0;34m)\u001b[0m\u001b[0;34m)\u001b[0m\u001b[0;34m\u001b[0m\u001b[0m\n\u001b[0m\u001b[1;32m      5\u001b[0m \u001b[0mmodel_glove\u001b[0m\u001b[0;34m.\u001b[0m\u001b[0madd\u001b[0m\u001b[0;34m(\u001b[0m\u001b[0mDropout\u001b[0m\u001b[0;34m(\u001b[0m\u001b[0;36m0.2\u001b[0m\u001b[0;34m)\u001b[0m\u001b[0;34m)\u001b[0m\u001b[0;34m\u001b[0m\u001b[0m\n\u001b[1;32m      6\u001b[0m \u001b[0mmodel_glove\u001b[0m\u001b[0;34m.\u001b[0m\u001b[0madd\u001b[0m\u001b[0;34m(\u001b[0m\u001b[0mConv1D\u001b[0m\u001b[0;34m(\u001b[0m\u001b[0;36m64\u001b[0m\u001b[0;34m,\u001b[0m \u001b[0;36m5\u001b[0m\u001b[0;34m,\u001b[0m \u001b[0mactivation\u001b[0m\u001b[0;34m=\u001b[0m\u001b[0;34m'relu'\u001b[0m\u001b[0;34m)\u001b[0m\u001b[0;34m)\u001b[0m\u001b[0;34m\u001b[0m\u001b[0m\n",
            "\u001b[0;31mNameError\u001b[0m: name 'vocabulary_size' is not defined"
          ]
        }
      ]
    },
    {
      "metadata": {
        "id": "AMY1PdLtGfrB",
        "colab_type": "code",
        "colab": {}
      },
      "cell_type": "code",
      "source": [
        ""
      ],
      "execution_count": 0,
      "outputs": []
    }
  ]
}