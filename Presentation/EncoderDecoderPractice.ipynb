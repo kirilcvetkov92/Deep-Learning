{
  "nbformat": 4,
  "nbformat_minor": 0,
  "metadata": {
    "colab": {
      "name": "Untitled1.ipynb",
      "version": "0.3.2",
      "provenance": []
    },
    "kernelspec": {
      "name": "python3",
      "display_name": "Python 3"
    }
  },
  "cells": [
    {
      "metadata": {
        "id": "wN0f9aGGA-Eg",
        "colab_type": "code",
        "colab": {}
      },
      "cell_type": "code",
      "source": [
        "#  Copyright 2019 Kiril Cvetkov. All Rights Reserved.\n",
        "\n",
        "\n",
        "import json\n",
        "import os\n",
        "import pandas as pd\n",
        "import pprint\n",
        "import tensorflow as tf\n",
        "import time\n",
        "import numpy as np\n",
        "from tensorflow import keras\n",
        "from tensorflow.keras.layers import *\n",
        "from tensorflow.keras.models import Model\n",
        "from keras import backend as K\n"
      ],
      "execution_count": 0,
      "outputs": []
    },
    {
      "metadata": {
        "id": "WIAbJzRZBMfw",
        "colab_type": "code",
        "outputId": "cd12ca31-6a4f-4bd6-ca4a-1d29fdc87802",
        "colab": {
          "base_uri": "https://localhost:8080/",
          "height": 34
        }
      },
      "cell_type": "code",
      "source": [
        "class LSTMModule(tf.keras.Model):\n",
        "  def __init__(self, n_filters):\n",
        "    super(LSTMModule, self).__init__(name='')\n",
        "\n",
        "    self.lstm1 = LSTM(n_filters)\n",
        "\n",
        "    \n",
        "    \n",
        "  def call(self, inputs, training = False):\n",
        "    x = self.lstm1(inputs)\n",
        "    return x\n",
        "\n",
        "\n",
        "data = tf.convert_to_tensor([0.1,0.2,0.3])\n",
        "\n",
        "data = K.reshape(data,(1,3,1))\n",
        "\n",
        "model = LSTMModule(1)\n",
        "kiko = np.array([0.1,0.2,0.3])\n",
        "kiko = kiko.reshape(1,3,1)\n",
        "model.predict(kiko)\n",
        "\n",
        "\n"
      ],
      "execution_count": 0,
      "outputs": [
        {
          "output_type": "execute_result",
          "data": {
            "text/plain": [
              "array([[-0.06181209]], dtype=float32)"
            ]
          },
          "metadata": {
            "tags": []
          },
          "execution_count": 5
        }
      ]
    },
    {
      "metadata": {
        "id": "_I2CswrvDRvN",
        "colab_type": "code",
        "outputId": "8533e12c-4a20-456f-a8c3-3e376c620e1b",
        "colab": {
          "base_uri": "https://localhost:8080/",
          "height": 34
        }
      },
      "cell_type": "code",
      "source": [
        "inputs1 = Input(shape=(3, 1))\n",
        "lstm1 = LSTM(1)(inputs1)\n",
        "model = Model(inputs=inputs1, outputs=lstm1)\n",
        "# define input data\n",
        "data = np.array([0.1, 0.2, 0.3]).reshape((1,3,1))\n",
        "# make and show prediction\n",
        "print(model.predict(data))"
      ],
      "execution_count": 0,
      "outputs": [
        {
          "output_type": "stream",
          "text": [
            "[[0.07243214]]\n"
          ],
          "name": "stdout"
        }
      ]
    },
    {
      "metadata": {
        "id": "S5C4cV9GLtsT",
        "colab_type": "code",
        "outputId": "d9cb5bc5-6e30-4dfb-cb0a-0e1201887e08",
        "colab": {
          "base_uri": "https://localhost:8080/",
          "height": 85
        }
      },
      "cell_type": "code",
      "source": [
        "inputs1 = Input(shape=(3, 1))\n",
        "lstm1_output, state_h, state_c = LSTM(10, return_state=True)(inputs1)\n",
        "#return state e okay ako vrzuvam edna so druga lstm\n",
        "model = Model(inputs=inputs1, outputs=[lstm1_output, state_h, state_c])\n",
        "# define input data\n",
        "data = np.array([0.1, 0.2, 0.3]).reshape((1,3,1))\n",
        "# make and show prediction\n",
        "a,b, c = model.predict(data)\n",
        "\n",
        "print(a==b)\n",
        "print(a.shape)\n",
        "print(b.shape)\n",
        "print(c.shape)\n"
      ],
      "execution_count": 0,
      "outputs": [
        {
          "output_type": "stream",
          "text": [
            "[[ True  True  True  True  True  True  True  True  True  True]]\n",
            "(1, 10)\n",
            "(1, 10)\n",
            "(1, 10)\n"
          ],
          "name": "stdout"
        }
      ]
    },
    {
      "metadata": {
        "id": "PSf485JdNd_3",
        "colab_type": "code",
        "outputId": "ceb375d5-74dc-4d6d-fccb-1078d5e1dc6c",
        "colab": {
          "base_uri": "https://localhost:8080/",
          "height": 119
        }
      },
      "cell_type": "code",
      "source": [
        "inputs1 = Input(shape=(3, 1))\n",
        "lstm1_output, state_h, state_c = LSTM(10, return_state=True, return_sequences=True)(inputs1)\n",
        "model = Model(inputs=inputs1, outputs=[lstm1_output, state_h, state_c])\n",
        "# define input data\n",
        "data = np.array([0.1, 0.2, 0.3]).reshape((1,3,1))\n",
        "# make and show prediction\n",
        "a,b, c = model.predict(data)\n",
        "\n",
        "print(a==b)\n",
        "print(a.shape)\n",
        "print(b.shape)\n",
        "print(c.shape)"
      ],
      "execution_count": 0,
      "outputs": [
        {
          "output_type": "stream",
          "text": [
            "[[[False False False False False False False False False False]\n",
            "  [False False False False False False False False False False]\n",
            "  [ True  True  True  True  True  True  True  True  True  True]]]\n",
            "(1, 3, 10)\n",
            "(1, 10)\n",
            "(1, 10)\n"
          ],
          "name": "stdout"
        }
      ]
    },
    {
      "metadata": {
        "id": "bLFXUpYvO6Gy",
        "colab_type": "code",
        "outputId": "09cb12de-5311-4441-9e68-bca0903384e9",
        "colab": {
          "base_uri": "https://localhost:8080/",
          "height": 102
        }
      },
      "cell_type": "code",
      "source": [
        "inputs1 = Input(shape=(3, 1))\n",
        "lstm1_output, state_h= GRU(10, return_state=True, return_sequences=True)(inputs1)\n",
        "#return state e okay ako vrzuvam edna so druga lstm\n",
        "model = Model(inputs=inputs1, outputs=[lstm1_output, state_h])\n",
        "# define input data\n",
        "data = np.array([0.1, 0.2, 0.3]).reshape((1,3,1))\n",
        "# make and show prediction\n",
        "a,b = model.predict(data)\n",
        "\n",
        "print(a==b)\n",
        "print(a.shape)\n",
        "print(b.shape)\n",
        "\n"
      ],
      "execution_count": 0,
      "outputs": [
        {
          "output_type": "stream",
          "text": [
            "[[[False False False False False False False False False False]\n",
            "  [False False False False False False False False False False]\n",
            "  [ True  True  True  True  True  True  True  True  True  True]]]\n",
            "(1, 3, 10)\n",
            "(1, 10)\n"
          ],
          "name": "stdout"
        }
      ]
    },
    {
      "metadata": {
        "id": "PeOKCT-PRMdf",
        "colab_type": "code",
        "colab": {}
      },
      "cell_type": "code",
      "source": [
        "def get_models(n_input, n_output, n_units):\n",
        " \t# define training encoder\n",
        "  #n_input dict_size/hotencoding size\n",
        "\tencoder_inputs = Input(shape=(None, n_input))\n",
        "\tencoder = LSTM(n_units, return_state=True)\n",
        "\tencoder_outputs, state_h, state_c = encoder(encoder_inputs)\n",
        "\tencoder_states = [state_h, state_c]\n",
        "\t# define training decoder\n",
        "\tdecoder_inputs = Input(shape=(None, n_output))\n",
        "\tdecoder_lstm = LSTM(n_units, return_sequences=True, return_state=True)\n",
        "\tdecoder_outputs, _, _ = decoder_lstm(decoder_inputs, initial_state=encoder_states)\n",
        "\tdecoder_dense = Dense(n_output, activation='softmax')\n",
        "\tdecoder_outputs = decoder_dense(decoder_outputs)\n",
        "\tmodel = Model([encoder_inputs, decoder_inputs], decoder_outputs)\n",
        "\t# define inference encoder\n",
        "\tencoder_model = Model(encoder_inputs, encoder_states)\n",
        "\t# define inference decoder\n",
        "\tdecoder_state_input_h = Input(shape=(n_units,))\n",
        "\tdecoder_state_input_c = Input(shape=(n_units,))\n",
        "\tdecoder_states_inputs = [decoder_state_input_h, decoder_state_input_c]\n",
        "\tdecoder_outputs, state_h, state_c = decoder_lstm(decoder_inputs, initial_state=decoder_states_inputs)\n",
        "\tdecoder_states = [state_h, state_c]\n",
        "\tdecoder_outputs = decoder_dense(decoder_outputs)\n",
        "\tdecoder_model = Model([decoder_inputs] + decoder_states_inputs, [decoder_outputs] + decoder_states)\n",
        "\t# return all models\n",
        "\treturn model, encoder_model, decoder_model\n",
        "  \n",
        "model, encoder_model, decoder_model = get_models(1,1, 10)\n"
      ],
      "execution_count": 0,
      "outputs": []
    },
    {
      "metadata": {
        "id": "1JoUSWYbRPbR",
        "colab_type": "code",
        "colab": {}
      },
      "cell_type": "code",
      "source": [
        "def predict_sentence(inference_encoder, inference_decoder, source, n_steps, cardinality):\n",
        "  #encode\n",
        "  state = infenc.predict(source)\n",
        "  \n",
        "  target_seq = np.array([0]*cardinality).reshape(1,1,cardinality)\n",
        "  \n",
        "  output = list()\n",
        "  \n",
        "  for t in range(n_steps):\n",
        "    yhat, h, c = infdec.predict([target_seq]+state)\n",
        "    output.append(yhat[0,0,:])\n",
        "    state = [h,c,]\n",
        "    target_sequence = yhat\n",
        "    \n",
        "  return np.array(output)\n",
        "  #\n",
        "  "
      ],
      "execution_count": 0,
      "outputs": []
    },
    {
      "metadata": {
        "id": "Ap3RTI50RKi4",
        "colab_type": "code",
        "colab": {}
      },
      "cell_type": "code",
      "source": [
        "from random import *\n",
        "from keras.utils import to_categorical\n",
        "\n",
        "# generate a sequence of random integers\n",
        "def generate_sequence(length, n_unique):\n",
        "\treturn [randint(1, n_unique-1) for _ in range(length)]\n",
        "\n",
        "def get_dataset(n_in, n_out, cardinality, n_samples):\n",
        "  X1, X2, y = list(), list(), list()\n",
        "  for _ in range(n_samples):\n",
        "    # generate source sequence\n",
        "    source = generate_sequence(n_in, cardinality)\n",
        "    # define target sequence\n",
        "    target = source[:n_out]\n",
        "    target.reverse()\n",
        "    # create padded input target sequence\n",
        "    target_in = [0] + target[:-1]\n",
        "    # encode\n",
        "#     print(source)\n",
        "#     print(target)\n",
        "#     print(target_in)\n",
        "    src_encoded = to_categorical([source], num_classes=cardinality)\n",
        "    tar_encoded = to_categorical([target], num_classes=cardinality)\n",
        "    tar2_encoded = to_categorical([target_in], num_classes=cardinality)\n",
        "    # store\n",
        "    X1.append(src_encoded)\n",
        "    X2.append(tar2_encoded)\n",
        "    y.append(tar_encoded)\n",
        "  return np.array(X1), np.array(X2), np.array(y)"
      ],
      "execution_count": 0,
      "outputs": []
    },
    {
      "metadata": {
        "id": "-E7Oi7fbRP7m",
        "colab_type": "code",
        "outputId": "8e483c21-3872-47b6-e73d-5c6f49fd5487",
        "colab": {
          "base_uri": "https://localhost:8080/",
          "height": 884
        }
      },
      "cell_type": "code",
      "source": [
        "get_dataset(6,3, 60, 1)"
      ],
      "execution_count": 0,
      "outputs": [
        {
          "output_type": "execute_result",
          "data": {
            "text/plain": [
              "(array([[[[0., 0., 0., 0., 0., 0., 0., 0., 0., 0., 0., 0., 0., 0., 0.,\n",
              "           0., 0., 0., 0., 0., 0., 0., 0., 0., 0., 0., 0., 0., 0., 0.,\n",
              "           0., 0., 0., 0., 0., 0., 0., 0., 0., 0., 0., 0., 0., 0., 0.,\n",
              "           0., 0., 0., 0., 0., 0., 0., 0., 0., 0., 0., 0., 0., 0., 1.],\n",
              "          [0., 0., 0., 0., 0., 0., 0., 0., 0., 0., 0., 0., 0., 0., 0.,\n",
              "           0., 0., 0., 0., 0., 0., 0., 0., 0., 0., 0., 0., 0., 0., 0.,\n",
              "           0., 0., 1., 0., 0., 0., 0., 0., 0., 0., 0., 0., 0., 0., 0.,\n",
              "           0., 0., 0., 0., 0., 0., 0., 0., 0., 0., 0., 0., 0., 0., 0.],\n",
              "          [0., 0., 0., 0., 0., 0., 0., 0., 0., 0., 0., 0., 0., 0., 0.,\n",
              "           0., 0., 0., 0., 0., 0., 0., 0., 0., 0., 0., 0., 0., 0., 0.,\n",
              "           0., 0., 0., 0., 0., 1., 0., 0., 0., 0., 0., 0., 0., 0., 0.,\n",
              "           0., 0., 0., 0., 0., 0., 0., 0., 0., 0., 0., 0., 0., 0., 0.],\n",
              "          [0., 0., 0., 0., 0., 0., 0., 1., 0., 0., 0., 0., 0., 0., 0.,\n",
              "           0., 0., 0., 0., 0., 0., 0., 0., 0., 0., 0., 0., 0., 0., 0.,\n",
              "           0., 0., 0., 0., 0., 0., 0., 0., 0., 0., 0., 0., 0., 0., 0.,\n",
              "           0., 0., 0., 0., 0., 0., 0., 0., 0., 0., 0., 0., 0., 0., 0.],\n",
              "          [0., 0., 0., 1., 0., 0., 0., 0., 0., 0., 0., 0., 0., 0., 0.,\n",
              "           0., 0., 0., 0., 0., 0., 0., 0., 0., 0., 0., 0., 0., 0., 0.,\n",
              "           0., 0., 0., 0., 0., 0., 0., 0., 0., 0., 0., 0., 0., 0., 0.,\n",
              "           0., 0., 0., 0., 0., 0., 0., 0., 0., 0., 0., 0., 0., 0., 0.],\n",
              "          [0., 0., 0., 0., 0., 0., 0., 0., 0., 0., 0., 0., 0., 0., 0.,\n",
              "           0., 0., 0., 0., 0., 0., 0., 0., 0., 0., 0., 0., 0., 1., 0.,\n",
              "           0., 0., 0., 0., 0., 0., 0., 0., 0., 0., 0., 0., 0., 0., 0.,\n",
              "           0., 0., 0., 0., 0., 0., 0., 0., 0., 0., 0., 0., 0., 0., 0.]]]],\n",
              "       dtype=float32),\n",
              " array([[[[1., 0., 0., 0., 0., 0., 0., 0., 0., 0., 0., 0., 0., 0., 0.,\n",
              "           0., 0., 0., 0., 0., 0., 0., 0., 0., 0., 0., 0., 0., 0., 0.,\n",
              "           0., 0., 0., 0., 0., 0., 0., 0., 0., 0., 0., 0., 0., 0., 0.,\n",
              "           0., 0., 0., 0., 0., 0., 0., 0., 0., 0., 0., 0., 0., 0., 0.],\n",
              "          [0., 0., 0., 0., 0., 0., 0., 0., 0., 0., 0., 0., 0., 0., 0.,\n",
              "           0., 0., 0., 0., 0., 0., 0., 0., 0., 0., 0., 0., 0., 0., 0.,\n",
              "           0., 0., 0., 0., 0., 1., 0., 0., 0., 0., 0., 0., 0., 0., 0.,\n",
              "           0., 0., 0., 0., 0., 0., 0., 0., 0., 0., 0., 0., 0., 0., 0.],\n",
              "          [0., 0., 0., 0., 0., 0., 0., 0., 0., 0., 0., 0., 0., 0., 0.,\n",
              "           0., 0., 0., 0., 0., 0., 0., 0., 0., 0., 0., 0., 0., 0., 0.,\n",
              "           0., 0., 1., 0., 0., 0., 0., 0., 0., 0., 0., 0., 0., 0., 0.,\n",
              "           0., 0., 0., 0., 0., 0., 0., 0., 0., 0., 0., 0., 0., 0., 0.]]]],\n",
              "       dtype=float32),\n",
              " array([[[[0., 0., 0., 0., 0., 0., 0., 0., 0., 0., 0., 0., 0., 0., 0.,\n",
              "           0., 0., 0., 0., 0., 0., 0., 0., 0., 0., 0., 0., 0., 0., 0.,\n",
              "           0., 0., 0., 0., 0., 1., 0., 0., 0., 0., 0., 0., 0., 0., 0.,\n",
              "           0., 0., 0., 0., 0., 0., 0., 0., 0., 0., 0., 0., 0., 0., 0.],\n",
              "          [0., 0., 0., 0., 0., 0., 0., 0., 0., 0., 0., 0., 0., 0., 0.,\n",
              "           0., 0., 0., 0., 0., 0., 0., 0., 0., 0., 0., 0., 0., 0., 0.,\n",
              "           0., 0., 1., 0., 0., 0., 0., 0., 0., 0., 0., 0., 0., 0., 0.,\n",
              "           0., 0., 0., 0., 0., 0., 0., 0., 0., 0., 0., 0., 0., 0., 0.],\n",
              "          [0., 0., 0., 0., 0., 0., 0., 0., 0., 0., 0., 0., 0., 0., 0.,\n",
              "           0., 0., 0., 0., 0., 0., 0., 0., 0., 0., 0., 0., 0., 0., 0.,\n",
              "           0., 0., 0., 0., 0., 0., 0., 0., 0., 0., 0., 0., 0., 0., 0.,\n",
              "           0., 0., 0., 0., 0., 0., 0., 0., 0., 0., 0., 0., 0., 0., 1.]]]],\n",
              "       dtype=float32))"
            ]
          },
          "metadata": {
            "tags": []
          },
          "execution_count": 22
        }
      ]
    },
    {
      "metadata": {
        "id": "7_3B-YLYRiu0",
        "colab_type": "code",
        "colab": {}
      },
      "cell_type": "code",
      "source": [
        "# generate target given source sequence\n",
        "def predict_sequence(infenc, infdec, source, n_steps, cardinality):\n",
        "  # encode\n",
        "  state = infenc.predict(source)\n",
        "  # start of sequence input\n",
        "  target_seq = np.array([0.0 for _ in range(cardinality)]).reshape(1, 1, cardinality)\n",
        "  # collect predictions\n",
        "  output = list()\n",
        "  for t in range(n_steps):\n",
        "    # predict next char\n",
        "    yhat, h, c = infdec.predict([target_seq] + state)\n",
        "    # store prediction\n",
        "    output.append(yhat[0,0,:])\n",
        "    print(yhat.shape)\n",
        "    print(\"prediction:\",one_hot_decode(yhat[0]))\n",
        "    # update state\n",
        "    state = [h, c]\n",
        "    # update target sequence\n",
        "\n",
        "    target_seq = yhat\n",
        "  return np.array(output)"
      ],
      "execution_count": 0,
      "outputs": []
    },
    {
      "metadata": {
        "id": "7qL7jqtOualx",
        "colab_type": "code",
        "colab": {}
      },
      "cell_type": "code",
      "source": [
        ""
      ],
      "execution_count": 0,
      "outputs": []
    },
    {
      "metadata": {
        "id": "0iGYJ9yft4lA",
        "colab_type": "code",
        "colab": {}
      },
      "cell_type": "code",
      "source": [
        "n_features = 50 + 1\n",
        "n_steps_in = 6\n",
        "n_steps_out = 3"
      ],
      "execution_count": 0,
      "outputs": []
    },
    {
      "metadata": {
        "id": "4oZdZXkzuMQG",
        "colab_type": "code",
        "colab": {}
      },
      "cell_type": "code",
      "source": [
        "\n",
        "# define model\n",
        "train, infenc, infdec = get_models(n_features, n_features, 128)\n",
        "train.compile(optimizer='adam', loss='categorical_crossentropy', metrics=['acc'])"
      ],
      "execution_count": 0,
      "outputs": []
    },
    {
      "metadata": {
        "id": "hPPFxeHpuNLx",
        "colab_type": "code",
        "outputId": "663bbf32-e490-47c1-88b9-d948349c0e5c",
        "colab": {
          "base_uri": "https://localhost:8080/",
          "height": 85
        }
      },
      "cell_type": "code",
      "source": [
        "X1, X2, y = get_dataset(n_steps_in, n_steps_out, n_features, 100000)\n",
        "X1 = X1.squeeze()\n",
        "X2 = X2.squeeze()\n",
        "y = y.squeeze()\n",
        "print(X1.shape,X2.shape,y.shape)\n",
        "# train model\n",
        "train.fit([X1, X2], y, epochs=1)"
      ],
      "execution_count": 0,
      "outputs": [
        {
          "output_type": "stream",
          "text": [
            "(100000, 6, 51) (100000, 3, 51) (100000, 3, 51)\n",
            "Epoch 1/1\n",
            "100000/100000 [==============================] - 93s 932us/step - loss: 0.6396 - acc: 0.7954\n"
          ],
          "name": "stdout"
        },
        {
          "output_type": "execute_result",
          "data": {
            "text/plain": [
              "<tensorflow.python.keras.callbacks.History at 0x7efd77dd7940>"
            ]
          },
          "metadata": {
            "tags": []
          },
          "execution_count": 42
        }
      ]
    },
    {
      "metadata": {
        "id": "ZDO6keqauWE6",
        "colab_type": "code",
        "outputId": "20927bb9-77d0-4b97-e22b-2619dc95c01c",
        "colab": {
          "base_uri": "https://localhost:8080/",
          "height": 5814
        }
      },
      "cell_type": "code",
      "source": [
        "def one_hot_decode(encoded_seq):\n",
        "\treturn [np.argmax(vector) for vector in encoded_seq]\n",
        "\n",
        "total, correct = 100, 0\n",
        "for _ in range(total):\n",
        "  X1, X2, y = get_dataset(n_steps_in, n_steps_out, n_features, 1)\n",
        "\n",
        "  X1=X1.reshape(X1.shape[1:])\n",
        "  X2=X2.reshape(X2.shape[1:])\n",
        "  y = y.reshape(y.shape[1:])\n",
        "\n",
        "  target = predict_sequence(infenc, infdec, X1, n_steps_out, n_features)\n",
        "  if np.array_equal(one_hot_decode(y[0]), one_hot_decode(target)):\n",
        "    correct += 1\n",
        "print('Accuracy: %.2f%%' % (float(correct)/float(total)*100.0))\n"
      ],
      "execution_count": 0,
      "outputs": [
        {
          "output_type": "stream",
          "text": [
            "prediction: [5]\n",
            "prediction: [7]\n",
            "prediction: [34]\n",
            "prediction: [42]\n",
            "prediction: [8]\n",
            "prediction: [12]\n",
            "prediction: [13]\n",
            "prediction: [21]\n",
            "prediction: [21]\n",
            "prediction: [34]\n",
            "prediction: [12]\n",
            "prediction: [41]\n",
            "prediction: [4]\n",
            "prediction: [47]\n",
            "prediction: [14]\n",
            "prediction: [27]\n",
            "prediction: [42]\n",
            "prediction: [4]\n",
            "prediction: [2]\n",
            "prediction: [30]\n",
            "prediction: [20]\n",
            "prediction: [38]\n",
            "prediction: [45]\n",
            "prediction: [34]\n",
            "prediction: [13]\n",
            "prediction: [8]\n",
            "prediction: [47]\n",
            "prediction: [49]\n",
            "prediction: [43]\n",
            "prediction: [10]\n",
            "prediction: [10]\n",
            "prediction: [6]\n",
            "prediction: [33]\n",
            "prediction: [32]\n",
            "prediction: [42]\n",
            "prediction: [15]\n",
            "prediction: [29]\n",
            "prediction: [19]\n",
            "prediction: [26]\n",
            "prediction: [44]\n",
            "prediction: [8]\n",
            "prediction: [26]\n",
            "prediction: [15]\n",
            "prediction: [1]\n",
            "prediction: [5]\n",
            "prediction: [34]\n",
            "prediction: [17]\n",
            "prediction: [48]\n",
            "prediction: [17]\n",
            "prediction: [25]\n",
            "prediction: [11]\n",
            "prediction: [16]\n",
            "prediction: [22]\n",
            "prediction: [2]\n",
            "prediction: [19]\n",
            "prediction: [45]\n",
            "prediction: [35]\n",
            "prediction: [19]\n",
            "prediction: [41]\n",
            "prediction: [19]\n",
            "prediction: [22]\n",
            "prediction: [9]\n",
            "prediction: [49]\n",
            "prediction: [38]\n",
            "prediction: [26]\n",
            "prediction: [14]\n",
            "prediction: [2]\n",
            "prediction: [25]\n",
            "prediction: [8]\n",
            "prediction: [30]\n",
            "prediction: [6]\n",
            "prediction: [4]\n",
            "prediction: [29]\n",
            "prediction: [32]\n",
            "prediction: [19]\n",
            "prediction: [3]\n",
            "prediction: [29]\n",
            "prediction: [13]\n",
            "prediction: [44]\n",
            "prediction: [8]\n",
            "prediction: [48]\n",
            "prediction: [19]\n",
            "prediction: [10]\n",
            "prediction: [7]\n",
            "prediction: [42]\n",
            "prediction: [19]\n",
            "prediction: [12]\n",
            "prediction: [24]\n",
            "prediction: [31]\n",
            "prediction: [15]\n",
            "prediction: [36]\n",
            "prediction: [48]\n",
            "prediction: [47]\n",
            "prediction: [50]\n",
            "prediction: [50]\n",
            "prediction: [13]\n",
            "prediction: [39]\n",
            "prediction: [7]\n",
            "prediction: [28]\n",
            "prediction: [30]\n",
            "prediction: [12]\n",
            "prediction: [7]\n",
            "prediction: [10]\n",
            "prediction: [15]\n",
            "prediction: [35]\n",
            "prediction: [3]\n",
            "prediction: [17]\n",
            "prediction: [45]\n",
            "prediction: [7]\n",
            "prediction: [25]\n",
            "prediction: [11]\n",
            "prediction: [4]\n",
            "prediction: [4]\n",
            "prediction: [4]\n",
            "prediction: [22]\n",
            "prediction: [4]\n",
            "prediction: [29]\n",
            "prediction: [4]\n",
            "prediction: [21]\n",
            "prediction: [47]\n",
            "prediction: [22]\n",
            "prediction: [28]\n",
            "prediction: [5]\n",
            "prediction: [42]\n",
            "prediction: [38]\n",
            "prediction: [43]\n",
            "prediction: [39]\n",
            "prediction: [8]\n",
            "prediction: [12]\n",
            "prediction: [35]\n",
            "prediction: [43]\n",
            "prediction: [23]\n",
            "prediction: [42]\n",
            "prediction: [15]\n",
            "prediction: [31]\n",
            "prediction: [41]\n",
            "prediction: [4]\n",
            "prediction: [7]\n",
            "prediction: [40]\n",
            "prediction: [29]\n",
            "prediction: [18]\n",
            "prediction: [48]\n",
            "prediction: [39]\n",
            "prediction: [35]\n",
            "prediction: [50]\n",
            "prediction: [6]\n",
            "prediction: [19]\n",
            "prediction: [45]\n",
            "prediction: [9]\n",
            "prediction: [47]\n",
            "prediction: [34]\n",
            "prediction: [5]\n",
            "prediction: [40]\n",
            "prediction: [20]\n",
            "prediction: [8]\n",
            "prediction: [15]\n",
            "prediction: [20]\n",
            "prediction: [1]\n",
            "prediction: [13]\n",
            "prediction: [41]\n",
            "prediction: [30]\n",
            "prediction: [42]\n",
            "prediction: [10]\n",
            "prediction: [47]\n",
            "prediction: [45]\n",
            "prediction: [35]\n",
            "prediction: [10]\n",
            "prediction: [24]\n",
            "prediction: [34]\n",
            "prediction: [5]\n",
            "prediction: [27]\n",
            "prediction: [30]\n",
            "prediction: [15]\n",
            "prediction: [2]\n",
            "prediction: [36]\n",
            "prediction: [33]\n",
            "prediction: [26]\n",
            "prediction: [32]\n",
            "prediction: [35]\n",
            "prediction: [15]\n",
            "prediction: [29]\n",
            "prediction: [48]\n",
            "prediction: [2]\n",
            "prediction: [31]\n",
            "prediction: [10]\n",
            "prediction: [34]\n",
            "prediction: [43]\n",
            "prediction: [37]\n",
            "prediction: [3]\n",
            "prediction: [26]\n",
            "prediction: [8]\n",
            "prediction: [4]\n",
            "prediction: [22]\n",
            "prediction: [6]\n",
            "prediction: [31]\n",
            "prediction: [20]\n",
            "prediction: [32]\n",
            "prediction: [46]\n",
            "prediction: [36]\n",
            "prediction: [9]\n",
            "prediction: [20]\n",
            "prediction: [5]\n",
            "prediction: [14]\n",
            "prediction: [2]\n",
            "prediction: [48]\n",
            "prediction: [27]\n",
            "prediction: [18]\n",
            "prediction: [38]\n",
            "prediction: [45]\n",
            "prediction: [8]\n",
            "prediction: [36]\n",
            "prediction: [15]\n",
            "prediction: [34]\n",
            "prediction: [16]\n",
            "prediction: [35]\n",
            "prediction: [23]\n",
            "prediction: [38]\n",
            "prediction: [28]\n",
            "prediction: [17]\n",
            "prediction: [35]\n",
            "prediction: [42]\n",
            "prediction: [3]\n",
            "prediction: [46]\n",
            "prediction: [37]\n",
            "prediction: [33]\n",
            "prediction: [30]\n",
            "prediction: [44]\n",
            "prediction: [1]\n",
            "prediction: [49]\n",
            "prediction: [18]\n",
            "prediction: [6]\n",
            "prediction: [32]\n",
            "prediction: [26]\n",
            "prediction: [10]\n",
            "prediction: [44]\n",
            "prediction: [6]\n",
            "prediction: [12]\n",
            "prediction: [30]\n",
            "prediction: [2]\n",
            "prediction: [50]\n",
            "prediction: [13]\n",
            "prediction: [27]\n",
            "prediction: [18]\n",
            "prediction: [8]\n",
            "prediction: [1]\n",
            "prediction: [9]\n",
            "prediction: [36]\n",
            "prediction: [27]\n",
            "prediction: [47]\n",
            "prediction: [47]\n",
            "prediction: [27]\n",
            "prediction: [27]\n",
            "prediction: [21]\n",
            "prediction: [6]\n",
            "prediction: [48]\n",
            "prediction: [1]\n",
            "prediction: [25]\n",
            "prediction: [33]\n",
            "prediction: [35]\n",
            "prediction: [26]\n",
            "prediction: [29]\n",
            "prediction: [6]\n",
            "prediction: [24]\n",
            "prediction: [14]\n",
            "prediction: [9]\n",
            "prediction: [8]\n",
            "prediction: [18]\n",
            "prediction: [22]\n",
            "prediction: [46]\n",
            "prediction: [25]\n",
            "prediction: [10]\n",
            "prediction: [4]\n",
            "prediction: [9]\n",
            "prediction: [9]\n",
            "prediction: [23]\n",
            "prediction: [10]\n",
            "prediction: [24]\n",
            "prediction: [41]\n",
            "prediction: [33]\n",
            "prediction: [16]\n",
            "prediction: [46]\n",
            "prediction: [18]\n",
            "prediction: [40]\n",
            "prediction: [14]\n",
            "prediction: [19]\n",
            "prediction: [40]\n",
            "prediction: [1]\n",
            "prediction: [23]\n",
            "prediction: [24]\n",
            "prediction: [24]\n",
            "prediction: [5]\n",
            "prediction: [47]\n",
            "prediction: [41]\n",
            "prediction: [12]\n",
            "prediction: [6]\n",
            "prediction: [49]\n",
            "prediction: [33]\n",
            "prediction: [20]\n",
            "prediction: [33]\n",
            "prediction: [16]\n",
            "Accuracy: 100.00%\n",
            "prediction: [48]\n",
            "prediction: [24]\n",
            "prediction: [26]\n",
            "X=[26, 24, 48, 32, 27, 3] y=[48, 24, 26], yhat=[48, 24, 26]\n",
            "prediction: [48]\n",
            "prediction: [4]\n",
            "prediction: [15]\n",
            "X=[15, 4, 48, 13, 15, 50] y=[48, 4, 15], yhat=[48, 4, 15]\n",
            "prediction: [25]\n",
            "prediction: [45]\n",
            "prediction: [43]\n",
            "X=[43, 45, 25, 34, 32, 12] y=[25, 45, 43], yhat=[25, 45, 43]\n",
            "prediction: [31]\n",
            "prediction: [40]\n",
            "prediction: [11]\n",
            "X=[11, 40, 31, 49, 49, 4] y=[31, 40, 11], yhat=[31, 40, 11]\n",
            "prediction: [38]\n",
            "prediction: [9]\n",
            "prediction: [50]\n",
            "X=[50, 9, 38, 6, 20, 11] y=[38, 9, 50], yhat=[38, 9, 50]\n",
            "prediction: [45]\n",
            "prediction: [8]\n",
            "prediction: [13]\n",
            "X=[13, 8, 45, 24, 26, 41] y=[45, 8, 13], yhat=[45, 8, 13]\n",
            "prediction: [28]\n",
            "prediction: [5]\n",
            "prediction: [3]\n",
            "X=[3, 5, 28, 8, 40, 14] y=[28, 5, 3], yhat=[28, 5, 3]\n",
            "prediction: [48]\n",
            "prediction: [40]\n",
            "prediction: [49]\n",
            "X=[49, 40, 48, 13, 9, 50] y=[48, 40, 49], yhat=[48, 40, 49]\n",
            "prediction: [19]\n",
            "prediction: [23]\n",
            "prediction: [35]\n",
            "X=[35, 23, 19, 11, 16, 28] y=[19, 23, 35], yhat=[19, 23, 35]\n",
            "prediction: [11]\n",
            "prediction: [45]\n",
            "prediction: [9]\n",
            "X=[9, 45, 11, 19, 20, 31] y=[11, 45, 9], yhat=[11, 45, 9]\n"
          ],
          "name": "stdout"
        }
      ]
    },
    {
      "metadata": {
        "id": "DlNHqiFZw0Cc",
        "colab_type": "code",
        "outputId": "c33bdbde-a281-4744-f735-e8387e680ec8",
        "colab": {
          "base_uri": "https://localhost:8080/",
          "height": 1207
        }
      },
      "cell_type": "code",
      "source": [
        "# spot check some examples\n",
        "for _ in range(10):\n",
        "  X1, X2, y = get_dataset(n_steps_in, n_steps_out, n_features, 1)\n",
        "  X1=X1.reshape(X1.shape[1:])\n",
        "  y = y.reshape(y.shape[1:])\n",
        "\n",
        "  target = predict_sequence(infenc, infdec, X1, n_steps_out, n_features)\n",
        "  print('X=%s y=%s, yhat=%s' % (one_hot_decode(X1[0]), one_hot_decode(y[0]), one_hot_decode(target)))"
      ],
      "execution_count": 0,
      "outputs": [
        {
          "output_type": "stream",
          "text": [
            "(1, 1, 51)\n",
            "prediction: [1]\n",
            "(1, 1, 51)\n",
            "prediction: [20]\n",
            "(1, 1, 51)\n",
            "prediction: [9]\n",
            "X=[9, 20, 1, 13, 13, 10] y=[1, 20, 9], yhat=[1, 20, 9]\n",
            "(1, 1, 51)\n",
            "prediction: [21]\n",
            "(1, 1, 51)\n",
            "prediction: [5]\n",
            "(1, 1, 51)\n",
            "prediction: [14]\n",
            "X=[14, 5, 21, 31, 48, 32] y=[21, 5, 14], yhat=[21, 5, 14]\n",
            "(1, 1, 51)\n",
            "prediction: [9]\n",
            "(1, 1, 51)\n",
            "prediction: [38]\n",
            "(1, 1, 51)\n",
            "prediction: [49]\n",
            "X=[49, 38, 9, 22, 47, 21] y=[9, 38, 49], yhat=[9, 38, 49]\n",
            "(1, 1, 51)\n",
            "prediction: [24]\n",
            "(1, 1, 51)\n",
            "prediction: [35]\n",
            "(1, 1, 51)\n",
            "prediction: [6]\n",
            "X=[6, 35, 24, 31, 43, 27] y=[24, 35, 6], yhat=[24, 35, 6]\n",
            "(1, 1, 51)\n",
            "prediction: [3]\n",
            "(1, 1, 51)\n",
            "prediction: [31]\n",
            "(1, 1, 51)\n",
            "prediction: [10]\n",
            "X=[10, 31, 3, 49, 5, 12] y=[3, 31, 10], yhat=[3, 31, 10]\n",
            "(1, 1, 51)\n",
            "prediction: [11]\n",
            "(1, 1, 51)\n",
            "prediction: [10]\n",
            "(1, 1, 51)\n",
            "prediction: [33]\n",
            "X=[33, 10, 11, 15, 25, 29] y=[11, 10, 33], yhat=[11, 10, 33]\n",
            "(1, 1, 51)\n",
            "prediction: [4]\n",
            "(1, 1, 51)\n",
            "prediction: [20]\n",
            "(1, 1, 51)\n",
            "prediction: [49]\n",
            "X=[49, 20, 4, 32, 50, 16] y=[4, 20, 49], yhat=[4, 20, 49]\n",
            "(1, 1, 51)\n",
            "prediction: [3]\n",
            "(1, 1, 51)\n",
            "prediction: [8]\n",
            "(1, 1, 51)\n",
            "prediction: [10]\n",
            "X=[10, 8, 3, 46, 29, 40] y=[3, 8, 10], yhat=[3, 8, 10]\n",
            "(1, 1, 51)\n",
            "prediction: [47]\n",
            "(1, 1, 51)\n",
            "prediction: [47]\n",
            "(1, 1, 51)\n",
            "prediction: [4]\n",
            "X=[4, 47, 47, 35, 31, 1] y=[47, 47, 4], yhat=[47, 47, 4]\n",
            "(1, 1, 51)\n",
            "prediction: [41]\n",
            "(1, 1, 51)\n",
            "prediction: [26]\n",
            "(1, 1, 51)\n",
            "prediction: [21]\n",
            "X=[21, 26, 41, 46, 30, 44] y=[41, 26, 21], yhat=[41, 26, 21]\n"
          ],
          "name": "stdout"
        }
      ]
    },
    {
      "metadata": {
        "id": "873WsD702KDH",
        "colab_type": "code",
        "colab": {}
      },
      "cell_type": "code",
      "source": [
        "#so se desava vo generiranje recenici, ima samo encoder :) pak moze istoto da se simulira so for 1Cell, pa drug cell\n",
        "\n",
        "#ZA UTRE probaj so 1d konvolucija bez dekoder"
      ],
      "execution_count": 0,
      "outputs": []
    },
    {
      "metadata": {
        "id": "vBOIo3AFQvjL",
        "colab_type": "code",
        "colab": {}
      },
      "cell_type": "code",
      "source": [
        "20, 5, 120 => "
      ],
      "execution_count": 0,
      "outputs": []
    }
  ]
}